{
  "cells": [
    {
      "cell_type": "code",
      "execution_count": 1,
      "metadata": {
        "id": "1NoJa32eEsLM"
      },
      "outputs": [],
      "source": [
        "# Data Science Tools and Ecosystem\n"
      ]
    },
    {
      "cell_type": "markdown",
      "metadata": {
        "id": "3Szazud5GUti"
      },
      "source": [
        "# Data Science Tools and Ecosystem"
      ]
    },
    {
      "cell_type": "markdown",
      "metadata": {
        "id": "9poYYPBxHXIb"
      },
      "source": [
        "In this notebook, Data Science Tools and Ecosystem are summarized.\n"
      ]
    },
    {
      "cell_type": "markdown",
      "metadata": {
        "id": "ogrGhVMiH39T"
      },
      "source": [
        "Some of the popular languages that Data Scientists use are:\n",
        "1. Python\n",
        "2. R\n",
        "3. SQL\n"
      ]
    },
    {
      "cell_type": "markdown",
      "metadata": {
        "id": "Ye6M5V3nIZ6Z"
      },
      "source": [
        "Some of the commonly used libraries used by Data Scientists include:\n",
        "1. Pandas\n",
        "2. NumPy\n",
        "3. Matplotlib\n"
      ]
    },
    {
      "cell_type": "markdown",
      "metadata": {
        "id": "-FNQEyIlI14A"
      },
      "source": []
    },
    {
      "cell_type": "markdown",
      "metadata": {
        "id": "wzZjlZ1eI4wL"
      },
      "source": [
        "| Data Science Tools       |\n",
        "|--------------------------|\n",
        "| Jupyter Notebook         |\n",
        "| RStudio                  |\n",
        "| Apache Zeppelin          |\n",
        "\n"
      ]
    },
    {
      "cell_type": "markdown",
      "metadata": {
        "id": "yN-ElIIxJSTg"
      },
      "source": [
        "### Below are a few examples of evaluating arithmetic expressions in Python.\n"
      ]
    },
    {
      "cell_type": "code",
      "execution_count": 2,
      "metadata": {
        "colab": {
          "base_uri": "https://localhost:8080/"
        },
        "id": "GZLcsiOKKAud",
        "outputId": "0f922fbc-35ba-4056-892a-1621869ee0b5"
      },
      "outputs": [
        {
          "data": {
            "text/plain": [
              "17"
            ]
          },
          "execution_count": 2,
          "metadata": {},
          "output_type": "execute_result"
        }
      ],
      "source": [
        "# This is a simple arithmetic expression to multiply then add integers\n",
        "(3 * 4) + 5\n"
      ]
    },
    {
      "cell_type": "code",
      "execution_count": 3,
      "metadata": {
        "colab": {
          "base_uri": "https://localhost:8080/"
        },
        "id": "8HjVGq3uKZAj",
        "outputId": "a0b855bd-fc64-4ea3-ab2e-df5667d0c843"
      },
      "outputs": [
        {
          "data": {
            "text/plain": [
              "3.3333333333333335"
            ]
          },
          "execution_count": 3,
          "metadata": {},
          "output_type": "execute_result"
        }
      ],
      "source": [
        "# This will convert 200 minutes to hours by dividing by 60\n",
        "200 / 60\n"
      ]
    },
    {
      "cell_type": "markdown",
      "metadata": {
        "id": "XCyt9aL6LKF9"
      },
      "source": [
        "**Objectives:**\n",
        "- List popular languages for Data Science\n",
        "- Identify commonly used libraries in Data Science\n",
        "- Introduce development environment tools used in Data Science\n",
        "- Perform basic arithmetic operations in Python\n",
        "- Convert units using Python code\n"
      ]
    },
    {
      "cell_type": "markdown",
      "metadata": {
        "id": "emMqdVHHLuyS"
      },
      "source": [
        "## Author\n",
        "Indranil Thakare\n",
        "\n"
      ]
    }
  ],
  "metadata": {
    "colab": {
      "provenance": []
    },
    "kernelspec": {
      "display_name": "Python 3",
      "name": "python3"
    },
    "language_info": {
      "name": "python"
    }
  },
  "nbformat": 4,
  "nbformat_minor": 0
}
